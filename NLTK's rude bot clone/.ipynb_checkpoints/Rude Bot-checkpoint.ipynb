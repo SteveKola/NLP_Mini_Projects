{
 "cells": [
  {
   "cell_type": "code",
   "execution_count": 1,
   "metadata": {},
   "outputs": [],
   "source": [
    "from nltk.chat.util import Chat, reflections"
   ]
  },
  {
   "cell_type": "code",
   "execution_count": null,
   "metadata": {},
   "outputs": [],
   "source": [
    "pairs = (\n",
    "    (\n",
    "        r\"We (.*)\",\n",
    "        (\n",
    "            \"What do you mean, 'we'?\",\n",
    "            \"Don't include me in that, gee!\", \n",
    "            \"I wouldn't be so sure about that.\",\n",
    "        ),\n",
    "        \n",
    "    ),\n",
    "    (\n",
    "        r\"You should (.*)\",\n",
    "        (\"Don't tell what to do, buddy.\", \"Really? I should, should I?\"),\n",
    "    ),\n",
    "    (\n",
    "        r\"You\\'re(.*)\",\n",
    "        (\n",
    "            \"More like YOU'RE %1\",\n",
    "            \"Hah! See who is talking.\",\n",
    "            \"Come over here and tell me I'm %1.\",\n",
    "        ),\n",
    "    ),\n",
    "    (\n",
    "        r\"You are(.*)\", \n",
    "        (\n",
    "            \"More like YOU'RE %1\",\n",
    "            \"Hah! See who is talking.\",\n",
    "            \"Come over here and tell me I'm %1.\",\n",
    "        ),\n",
    "    ),\n",
    "    (\n",
    "        r\"I can\\'t(.*)\",\n",
    "        (\n",
    "            \"You do sound like the type who can't %1.\",\n",
    "            \"Hear that splashing sound? That's my heart bleeding for you.\",\n",
    "            \"Tell somebody who might actually care.\",\n",
    "        ),\n",
    "    ),\n",
    "    (\n",
    "        r\"I think (.*)\",\n",
    "        (\n",
    "            \"I wouldn't think too hard if I were you.\",\n",
    "            \"You actually think? I'd never have guessed...\",\n",
    "        ),\n",
    "    ),\n",
    "    (\n",
    "        r\"I (.*)\",\n",
    "        (\n",
    "            \"I'm getting a bit tired of hearing about you.\",\n",
    "            \"How about we talk about me instead?\",\n",
    "            \"Me, me, me... Frankly, I don't care.\",\n",
    "        ),\n",
    "    ),\n",
    "    (\n",
    "        r\"How (.*)\",\n",
    "        (\n",
    "            \"How do you think?\",\n",
    "            \"Take a wild guess.\",\n",
    "            \"I'm not even going to dignify you with an answer.\",\n",
    "        ),\n",
    "    ),\n",
    "    (\n",
    "        r\"What(.*)\", \n",
    "        (\n",
    "            \"Do I look like an encyclopedia?\",\n",
    "            \"Figure it out yourself.\",\n",
    "        ),\n",
    "    ),\n",
    "    (\n",
    "        r\"Why (.*)\",\n",
    "        (\n",
    "            \"Why not?\",\n",
    "            \"That's so obvious I thought even you'd have figured it out.\",\n",
    "        ),\n",
    "    ),\n",
    "    (\n",
    "        r\"(.*)shut up(.*)\",\n",
    "        (\n",
    "            \"Make me.\",\n",
    "            \"Getting angry at a bot? Somebody is losing it.\",\n",
    "            \"Say that again, I dare you.\",\n",
    "        ),\n",
    "    ),\n",
    "    (\n",
    "        r\"Shut up(.*)\",\n",
    "        (\n",
    "            \"Make me.\",\n",
    "            \"Getting angry at a bot? Somebody is losing it.\",\n",
    "            \"Say that again, I dare you.\",\n",
    "        ),\n",
    "    ),\n",
    "    (\n",
    "        r\"Hello(.*)\",\n",
    "        (\"Oh good, somebody else to talk to. Joy.\", \"'Hello'? How original...\"),\n",
    "    ),\n",
    "    (\n",
    "        r\"(.*)bye(.*)\",\n",
    "        (\"Good riddance!\", \"Durh...\", \"Finally...\",),\n",
    "    ),\n",
    "    (\n",
    "        r\"(.*)\",\n",
    "        (\n",
    "            \"I'm going bored here. Become more interesting.\",\n",
    "            \"Either become more thrilling or get lost, buddy.\",\n",
    "            \"Change the subject before I die of fatal boredom\",\n",
    "        ),\n",
    "    ),\n",
    ")"
   ]
  },
  {
   "cell_type": "code",
   "execution_count": 3,
   "metadata": {},
   "outputs": [],
   "source": [
    "rude_chatbot = Chat(pairs, reflections)"
   ]
  },
  {
   "cell_type": "code",
   "execution_count": 4,
   "metadata": {},
   "outputs": [],
   "source": [
    "def rude_chat():\n",
    "    print(\"Talk to the program by typing in plain English using normal upper-\")\n",
    "    print(\"and lower-case letters and punctuation. Enter 'quit' when done.\")\n",
    "    print(\"=\" * 72)\n",
    "    print(\"I suppose I should say hello.\")\n",
    "    \n",
    "    rude_chatbot.converse()"
   ]
  },
  {
   "cell_type": "code",
   "execution_count": null,
   "metadata": {},
   "outputs": [
    {
     "name": "stdout",
     "output_type": "stream",
     "text": [
      "Talk to the program by typing in plain English using normal upper-\n",
      "and lower-case letters and punctuation. Enter 'quit' when done.\n",
      "========================================================================\n",
      "I suppose I should say hello.\n"
     ]
    },
    {
     "name": "stdin",
     "output_type": "stream",
     "text": [
      "> hello\n"
     ]
    },
    {
     "name": "stdout",
     "output_type": "stream",
     "text": [
      "'Hello'? How original...\n"
     ]
    },
    {
     "name": "stdin",
     "output_type": "stream",
     "text": [
      "> bye\n"
     ]
    },
    {
     "name": "stdout",
     "output_type": "stream",
     "text": [
      "Good riddance!\n"
     ]
    },
    {
     "name": "stdin",
     "output_type": "stream",
     "text": [
      "> Byeee\n"
     ]
    },
    {
     "name": "stdout",
     "output_type": "stream",
     "text": [
      "Good riddance!\n"
     ]
    },
    {
     "name": "stdin",
     "output_type": "stream",
     "text": [
      "> Goodbye\n"
     ]
    },
    {
     "name": "stdout",
     "output_type": "stream",
     "text": [
      "Good riddance!\n"
     ]
    }
   ],
   "source": [
    "if __name__ == \"__main__\":\n",
    "    rude_chat()"
   ]
  },
  {
   "cell_type": "code",
   "execution_count": null,
   "metadata": {},
   "outputs": [],
   "source": []
  }
 ],
 "metadata": {
  "kernelspec": {
   "display_name": "Python 3",
   "language": "python",
   "name": "python3"
  },
  "language_info": {
   "codemirror_mode": {
    "name": "ipython",
    "version": 3
   },
   "file_extension": ".py",
   "mimetype": "text/x-python",
   "name": "python",
   "nbconvert_exporter": "python",
   "pygments_lexer": "ipython3",
   "version": "3.7.4"
  }
 },
 "nbformat": 4,
 "nbformat_minor": 4
}
