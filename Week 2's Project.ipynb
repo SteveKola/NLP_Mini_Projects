{
 "cells": [
  {
   "cell_type": "markdown",
   "metadata": {},
   "source": [
    "## A Sentiment Analysis Project, to Analyse How People Feel about the Pandemic Lockdown"
   ]
  },
  {
   "cell_type": "markdown",
   "metadata": {},
   "source": [
    "*This project analyses tweets that possess hashtag `lockdown` in their sentences.*"
   ]
  },
  {
   "cell_type": "markdown",
   "metadata": {},
   "source": [
    "### Setup"
   ]
  },
  {
   "cell_type": "code",
   "execution_count": 2,
   "metadata": {},
   "outputs": [],
   "source": [
    "import GetOldTweets3 as got"
   ]
  },
  {
   "cell_type": "markdown",
   "metadata": {},
   "source": [
    "### Get `#lockdown` tweets, 10 Tweets max"
   ]
  },
  {
   "cell_type": "code",
   "execution_count": 4,
   "metadata": {},
   "outputs": [
    {
     "data": {
      "text/plain": [
       "[<GetOldTweets3.models.Tweet.Tweet at 0x218fef83490>,\n",
       " <GetOldTweets3.models.Tweet.Tweet at 0x218fef4f2e0>,\n",
       " <GetOldTweets3.models.Tweet.Tweet at 0x218fef4fd30>,\n",
       " <GetOldTweets3.models.Tweet.Tweet at 0x218fef4c1f0>,\n",
       " <GetOldTweets3.models.Tweet.Tweet at 0x218fef4c160>,\n",
       " <GetOldTweets3.models.Tweet.Tweet at 0x218fef4f1f0>,\n",
       " <GetOldTweets3.models.Tweet.Tweet at 0x218fef83c10>,\n",
       " <GetOldTweets3.models.Tweet.Tweet at 0x218fef83f40>,\n",
       " <GetOldTweets3.models.Tweet.Tweet at 0x218fef83fd0>,\n",
       " <GetOldTweets3.models.Tweet.Tweet at 0x218fef4f820>]"
      ]
     },
     "execution_count": 4,
     "metadata": {},
     "output_type": "execute_result"
    }
   ],
   "source": [
    "tweetCriteria = got.manager.TweetCriteria().setQuerySearch('#lockdown').setMaxTweets(10)\n",
    "tweets = got.manager.TweetManager.getTweets(tweetCriteria)\n",
    "tweets"
   ]
  },
  {
   "cell_type": "code",
   "execution_count": 6,
   "metadata": {},
   "outputs": [
    {
     "name": "stdout",
     "output_type": "stream",
     "text": [
      "#Lockdown special receipe #Wheat Halwa#Foodie \n",
      "\n",
      "As the world starts to attempt to ease out of #lockdown, we must ensure that there is not mass discrimination against those whose families contain high risk individuals. We must not force them to choose between the safety of their family or their right to fairness and opportunity\n",
      "\n",
      "Sandhya Vandan... सन्ध्यामुपासते ये तु सततं संशितव्रताः। विधूतपापास्ते यान्ति ब्रह्मलोकं सनातनम्।। यतः प्रवृत्तिभूतानां येन सर्वमिदं ततम्। स्वकर्मणा तमभ्यर्च्य सिद्धिं विन्दति मानवः।। .. ... .... #lockdown… https://www.instagram.com/p/CErVzM5hFDY/?igshid=rva46i94969\n",
      "\n",
      "School infrastructures and #NSNP supply systems could have been used to reach more people who were facing hunger during the #lockdown. Instead the state opted to suspend the #NSNP and launch new feeding programmes -Sasha Stevenson #childhunger\n",
      "\n",
      "#Metro #DelhiMetro #DMRC @OfficialDMRC #delhitransport #Lockdown @kgahlot\n",
      "\n",
      "Würde nicht von der Sekte #Querdenken behauptet es gäbe am 01.09.2020 einen Weltweiten #Lockdown? Auch würde gesagt es gibt Massenimpfungen Tja nichts ist eingetreten\n",
      "\n",
      "#shameonpnb #shameonbankingsystem #shameonobc I am trying to get my account digital details since 10 years but not able to now during #lockdown mgr at noida sect35 branch made us to visit 10times and shamlessly telling kam karwan hai to Anna padega @pnbindia @\n",
      "\n",
      "It becomes far less astonishing if we consider that forces which realized the global orchestration of #lockdown are distinct from subservient politicians that cannot orchestrate much anyway The #bigbusiness , #bigwar have a lot to gain from breaking down the national sovereignty\n",
      "\n",
      "During #Lockdown my mom died and my eldest daughter @aoifeinman wrote a poem about the experience. http://stayinghome.squadsite.uk/portfolio/we-aim-to-flatten-the-curve/ The view from my Mom's bedroom was as beautiful as it was when I slept there as a child.\n",
      "\n",
      "#TheBrinkNews I COVID-19:Uganda Register a High of 176 Positive Cases, 1 Death in a Day https://thebrinknews.com/covid-19uganda-register-a-high-of-176-positive-cases-1-death-in-a-day/ via @thebrink_news #COVID19 #coronavirus #Uganda #lockdown #UgandaNews\n",
      "\n"
     ]
    }
   ],
   "source": [
    "for tweet in tweets:\n",
    "    print(tweet.text)\n",
    "    print()"
   ]
  },
  {
   "cell_type": "markdown",
   "metadata": {},
   "source": [
    "### Get `#lockdown` tweets, with location around Lagos, Nigeria. 10 Tweets max"
   ]
  },
  {
   "cell_type": "code",
   "execution_count": 11,
   "metadata": {},
   "outputs": [
    {
     "name": "stdout",
     "output_type": "stream",
     "text": [
      "#throwback to #owanbe before #lockdown Bio's #wedding #owanbeparries #throwbackthursday #agbada #agbadachallenge #agbadastyles #agbadagang #yoruba #yorubawedding https://www.instagram.com/p/CErM2KvFfK9/?igshid=huwu5bxeg4f\n",
      "*****************************\n",
      "With this in mind, governments across the globe see a need to get academic institutions running, while keeping them safe. #COVID__19 #pandemic #lockdown #OnlineClasses #onlinelearning\n",
      "*****************************\n",
      "#Lockdown was very painful for #transportation and storage, for which average #growth slumped from a double-digit level to 2.50%. For trade, the barometer of the #economy, the average is -2.36% contraction. #FBNQuestResearch\n",
      "*****************************\n",
      "When is this #BBNaija #Lockdown going to be over am drained already\n",
      "*****************************\n",
      "Our Coated #Column casing and #Cap can be just like the regular concrete effects on building. They are generally coated and installed to withstand sun and rain; follow @F2Dinamico @sijif #lockdown #polystyrene #Buildings #styrofoam #TeamGoldLabel #Messi #MUFC #BBNaijia #BBNengi\n",
      "*****************************\n",
      "#WednesdayThoughts #COVID19 #lockdown @WHO @theNAMedicine @HopkinsMedicine @nytimes @TIME @NPR @penguinusa @LittleBrownUK @BloomsburyBooks @nytimesbooks @CNNAfrica @BBCAfrica \"SOLICITUDE in SOLITUDE: How I Overcame the Trauma of COVID-19 https://nigeriansreportng.blogspot.com/2020/09/solicitude-in-solitude-how-i-overcame.html\n",
      "*****************************\n",
      "*I have 10 slots to invite 10 smart ladies to learn in 15mins on Zoom about a beauty business you can start without owning a shop. You wanna attend?* Please chat me for link. #moneytwitter #COVID19 #lockdown #JobSearch http://wa.me/2348166100697 \n",
      "*****************************\n",
      "*I have 10 slots to invite 10 smart ladies to learn in 15mins on Zoom about a beauty business you can start without owning a shop. You wanna attend?* Please chat me for link. #moneytwitter #COVID19 #lockdown #JobSearch http://wa.me/2348166100697 \n",
      "*****************************\n",
      "*I have 10 slots to invite 10 smart ladies to learn in 15mins on Zoom about a beauty business you can start without owning a shop. You wanna attend?* Please chat me for link. #moneytwitter #COVID19 #lockdown #JobSearch http://wa.me/2348166100697 \n",
      "*****************************\n",
      "*I have 10 slots to invite 10 smart ladies to learn in 15mins on Zoom about a beauty business you can start without owning a shop. You wanna attend?* Please chat me for link. #moneytwitter #COVID19 #lockdown #JobSearch http://wa.me/2348166100697\n",
      "*****************************\n"
     ]
    }
   ],
   "source": [
    "tweetCriteria = got.manager.TweetCriteria().setQuerySearch('#lockdown')\\\n",
    "                                           .setNear('Lagos, Nigeria')\\\n",
    "                                           .setMaxTweets(10)\n",
    "tweets = got.manager.TweetManager.getTweets(tweetCriteria)\n",
    "\n",
    "\n",
    "for tweet in tweets:\n",
    "    print(tweet.text)\n",
    "    print('*****************************')"
   ]
  },
  {
   "cell_type": "markdown",
   "metadata": {},
   "source": [
    "### Get `#lockdown` tweets, with location in Nigeria. 10 Tweets max"
   ]
  },
  {
   "cell_type": "code",
   "execution_count": 12,
   "metadata": {},
   "outputs": [
    {
     "name": "stdout",
     "output_type": "stream",
     "text": [
      "#Covid_19 #COVID__19 #COVID19 #mascherina #discotechechiuse #lockdown #Lockdown2 #COVID19\n",
      "*****************************\n",
      "Pvt Schools r charging exploitative fee for the duration of #Lockdown @NitishBiharCM, plz issue orders on the line of @ArvindKejriwal restricting pvt schools to charge only tuition fee during #Lockdown @NitishKumar @yadavtejashwi @AmitShahOffice\n",
      "*****************************\n",
      "JML quarterly sales surges 118% thanks to lockdown when more consumers shopped from home. #businessnews #retailnews #lockdown #ecommerce\n",
      "*****************************\n",
      "VIDEO: थिएटर उघडा...आता आम्हाला 'लय भारी' पडतंय; थिएटर मालकांचं अनोखं आंदोलन https://youtu.be/W0JFrcvAip0 #Unlock4 #theatre #lockdown\n",
      "*****************************\n",
      "Wie sollten Politik und andere Entscheidungsträger in der #Corona Krise kommunizieren? Die Eckpfeiler unserer Bürgerinitiative https://schulefueralle.blogspot.com/2020/08/wie-sollten-politik-entscheidungstrager.html #Lehrer #coronavirusDE #twlz #Bildungabersicher #Trump #Schule #lockdown #Neuinfektionen #homeoffice #coronadebat\n",
      "*****************************\n",
      "#EIMPA #Cinema #OTT #CinemaHall #coronavirus #Covid_19 #COVID19 #Lockdown @idevadhikari #SupportMovieTheaters #savecinemasavejobs #SaveCinemas\n",
      "*****************************\n",
      "#Sikar: जिला प्रशासन की बैठक धार्मिक गुरुओं,मंदिर पुजारियों और मस्जिद के मौलवियों के साथ बैठक, जिले के 7 सितंबर से खुलेंगे सभी धार्मिक स्थल, 30 सितंबर तक खाटूश्याम जी,15 सितंबर तक जीण माता... #Covid19 #CoronaPandemic #Lockdown \n",
      "*****************************\n",
      "Regulärer Unterricht: eine riskante Strategie. Unsere Analyse auf #YouTube https://youtu.be/17__FwY2y1g #Corona #Lehrer #COVID__19 #twlz #Bildungabersicher #Pandemie #Schule #lockdown #homeoffice #laschet #merkel #trump #soeder\n",
      "*****************************\n",
      "What does #lockdown added to your life ? For me I found myself more, found what does it mean by #reallife and found very few real #friends! May be..\n",
      "*****************************\n",
      "Schwangere Mutter wegen #lockdown-kritischem #FB-Post #verhaftet | Pregnant women #arrested for criticizing lockdown in #facebook #post https://youtu.be/B3vTYISAupM via @YouTube #Australia #police #willkür\n",
      "*****************************\n"
     ]
    }
   ],
   "source": [
    "tweetCriteria = got.manager.TweetCriteria().setQuerySearch('#lockdown')\\\n",
    "                                           .setWithin('Nigeria')\\\n",
    "                                           .setMaxTweets(10)\n",
    "tweets = got.manager.TweetManager.getTweets(tweetCriteria)\n",
    "\n",
    "\n",
    "for tweet in tweets:\n",
    "    print(tweet.text)\n",
    "    print('*****************************')"
   ]
  },
  {
   "cell_type": "markdown",
   "metadata": {},
   "source": [
    "### Get `#lockdown` tweets, with location around Lagos, Nigeria and a time range of February and July. 10 Tweets max"
   ]
  },
  {
   "cell_type": "code",
   "execution_count": 16,
   "metadata": {},
   "outputs": [
    {
     "name": "stdout",
     "output_type": "stream",
     "text": [
      "When we used to go to night class to push #lockdown \n",
      "*****************************\n",
      "Yesterday I had 20 pieces of chicken, today I have 4. #Lockdown, Day 1.\n",
      "*****************************\n",
      "Hope Uzodinmma don sheet for church ooo Thiswan whey @KemiOlunloyo wants him to resign.... @KemiOlunloyo please increase the volume.. #StayAtHome #COVID19 #lockdown #TuesdayMotivation\n",
      "*****************************\n",
      "Fam, #lockdown is just getting started. You want boredom to finish me!!! \n",
      "*****************************\n",
      "Even staying at home is still stressful . #Lockdown\n",
      "*****************************\n",
      "Do mosquitos bite or sting? Just say you don't know, let's move on. Me sef na this #lockdown make me think am ‍ \n",
      "*****************************\n",
      "BURNA can't trash OLAMIDE he belongs to that obesere and small doctor group #AskBurna #lockdown #COVID\n",
      "*****************************\n",
      "Omo #lockdown for this county Na extreme sport \n",
      "*****************************\n",
      "I’m tired of looking into my phone. Please what else can I do. #lockdown #COVID19\n",
      "*****************************\n",
      "Out now https://audiomack.com/song/blinxx/asiko https://m.soundcloud.com/user-104964718/asiko https://www.360naijahits.com.ng/download-mp3/music-premiere-blinxx-asiko/ For the culture!!! #StayAtHome #TuesdayMotivation #lockdown @sheikhrecords1\n",
      "*****************************\n"
     ]
    }
   ],
   "source": [
    "tweetCriteria = got.manager.TweetCriteria().setQuerySearch('#lockdown')\\\n",
    "                                           .setNear('Lagos, Nigeria')\\\n",
    "                                           .setSince('2020-03-01')\\\n",
    "                                           .setUntil('2020-04-01')\\\n",
    "                                           .setMaxTweets(10)\n",
    "tweets = got.manager.TweetManager.getTweets(tweetCriteria)\n",
    "\n",
    "for tweet in tweets:\n",
    "    print(tweet.text)\n",
    "    print('*****************************')"
   ]
  },
  {
   "cell_type": "code",
   "execution_count": null,
   "metadata": {},
   "outputs": [],
   "source": []
  }
 ],
 "metadata": {
  "kernelspec": {
   "display_name": "Python 3",
   "language": "python",
   "name": "python3"
  },
  "language_info": {
   "codemirror_mode": {
    "name": "ipython",
    "version": 3
   },
   "file_extension": ".py",
   "mimetype": "text/x-python",
   "name": "python",
   "nbconvert_exporter": "python",
   "pygments_lexer": "ipython3",
   "version": "3.8.5"
  }
 },
 "nbformat": 4,
 "nbformat_minor": 4
}
