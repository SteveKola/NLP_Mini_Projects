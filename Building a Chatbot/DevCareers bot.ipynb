{
 "cells": [
  {
   "cell_type": "markdown",
   "metadata": {},
   "source": [
    "## Setup"
   ]
  },
  {
   "cell_type": "code",
   "execution_count": 1,
   "metadata": {},
   "outputs": [],
   "source": [
    "import nltk\n",
    "from nltk.chat.util import Chat, reflections"
   ]
  },
  {
   "cell_type": "markdown",
   "metadata": {},
   "source": [
    "`Chat` is a class that provides logic for building a chatbot."
   ]
  },
  {
   "cell_type": "code",
   "execution_count": 2,
   "metadata": {},
   "outputs": [
    {
     "data": {
      "text/plain": [
       "nltk.chat.util.Chat"
      ]
     },
     "execution_count": 2,
     "metadata": {},
     "output_type": "execute_result"
    }
   ],
   "source": [
    "Chat"
   ]
  },
  {
   "cell_type": "markdown",
   "metadata": {},
   "source": [
    "`Dictionary` is a dictionary that contains a set of input text and its corresponding output values."
   ]
  },
  {
   "cell_type": "code",
   "execution_count": 3,
   "metadata": {},
   "outputs": [
    {
     "data": {
      "text/plain": [
       "{'i am': 'you are',\n",
       " 'i was': 'you were',\n",
       " 'i': 'you',\n",
       " \"i'm\": 'you are',\n",
       " \"i'd\": 'you would',\n",
       " \"i've\": 'you have',\n",
       " \"i'll\": 'you will',\n",
       " 'my': 'your',\n",
       " 'you are': 'I am',\n",
       " 'you were': 'I was',\n",
       " \"you've\": 'I have',\n",
       " \"you'll\": 'I will',\n",
       " 'your': 'my',\n",
       " 'yours': 'mine',\n",
       " 'you': 'me',\n",
       " 'me': 'you'}"
      ]
     },
     "execution_count": 3,
     "metadata": {},
     "output_type": "execute_result"
    }
   ],
   "source": [
    "reflections"
   ]
  },
  {
   "cell_type": "markdown",
   "metadata": {
    "jupyter": {
     "outputs_hidden": true
    }
   },
   "source": [
    "## Building the Chatbot\n",
    "\n",
    "### Creating the Rules\n",
    "We create rules that'd be used to train the chatbot. The first element in the list is the user input, the second element is the response from the bot"
   ]
  },
  {
   "cell_type": "code",
   "execution_count": 9,
   "metadata": {},
   "outputs": [],
   "source": [
    "set_pairs = (\n",
    "    (\n",
    "        r\"my name is (.*)\",\n",
    "        (\"Hello %1. How are you doing today?\",)\n",
    "    ),\n",
    "    (\n",
    "        r\"(hi|hey|hello)\",\n",
    "        (\"Hello\", \"Hey there!\",)\n",
    "    ),\n",
    "    (\n",
    "        r\"what is your name?\",\n",
    "        (\"You can call me a chatbot\",)\n",
    "    ),\n",
    "    (\n",
    "        r\"how are you?\",\n",
    "        (\"I am fine, thank you! How can I help you?\")\n",
    "    ),\n",
    "    (\n",
    "        r\"i am fine, thank you\",\n",
    "        (\"Great to hear that! How can I help you?:)\",)\n",
    "    ),\n",
    "    (\n",
    "        r\"how can I help you?\",\n",
    "        (\"I want to know more about DevCareers and how I can get in.\", \n",
    "         \"I'm looking for a great Data Science learning platform. Can you help?\",)\n",
    "    ),\n",
    "    (\n",
    "        r\"i'm (.*) doing good\",\n",
    "        (\"That's great to hear\", \"How can I help you.\",)\n",
    "    ),\n",
    "    (\n",
    "        r\"(.*) (DevCareers|Laptop4Developers)(.*)\",\n",
    "        (\"DevCareers is an NGO that sources for fundings and provide laptops and resources for budding developers. You can check their websites.\",)\n",
    "    ),\n",
    "    (\n",
    "        r\"(.*)when(.*)\",\n",
    "        (\"Follow DevCareers on Twitter. Any information would be announced on the Twitter's page.\",)\n",
    "    ),\n",
    "    (\n",
    "        r\"(.*)thank(.*)\",\n",
    "        (\"I'm happy to help\", \"No problem, you're welcome\",)\n",
    "    ),\n",
    "    (\n",
    "        r\"quit\",\n",
    "        (\"Bye. Take care. See you soon. :) \", \"It was nice talking to you. See you soon :) \",)\n",
    "    ),\n",
    "    (\n",
    "        r\"(.*)\",\n",
    "        (\"I didn't get that. Can you rephrase your words?\",``)\n",
    "    ),\n",
    ")"
   ]
  },
  {
   "cell_type": "markdown",
   "metadata": {},
   "source": [
    "### Defining and Instantiating the Chatbot"
   ]
  },
  {
   "cell_type": "code",
   "execution_count": 10,
   "metadata": {},
   "outputs": [
    {
     "name": "stdout",
     "output_type": "stream",
     "text": [
      "Hi, I am DevCareers' FAQs bot. Ask me anything (about DevCareers)`\n"
     ]
    }
   ],
   "source": [
    "def chatbot():\n",
    "    print(\"Hi, I am DevCareers' FAQs bot. Ask me anything (about DevCareers)`\")\n",
    "    \n",
    "chatbot()"
   ]
  },
  {
   "cell_type": "code",
   "execution_count": 11,
   "metadata": {},
   "outputs": [
    {
     "data": {
      "text/plain": [
       "<nltk.chat.util.Chat at 0x1717a425b48>"
      ]
     },
     "execution_count": 11,
     "metadata": {},
     "output_type": "execute_result"
    }
   ],
   "source": [
    "chat = Chat(set_pairs, reflections)\n",
    "chat"
   ]
  },
  {
   "cell_type": "code",
   "execution_count": 12,
   "metadata": {},
   "outputs": [
    {
     "name": "stdin",
     "output_type": "stream",
     "text": [
      "> Hello\n"
     ]
    },
    {
     "name": "stdout",
     "output_type": "stream",
     "text": [
      "Hey there!\n"
     ]
    },
    {
     "name": "stdin",
     "output_type": "stream",
     "text": [
      "> how are you\n"
     ]
    },
    {
     "name": "stdout",
     "output_type": "stream",
     "text": [
      "a\n"
     ]
    },
    {
     "name": "stdin",
     "output_type": "stream",
     "text": [
      "> how are you\n"
     ]
    },
    {
     "name": "stdout",
     "output_type": "stream",
     "text": [
      "l\n"
     ]
    },
    {
     "name": "stdin",
     "output_type": "stream",
     "text": [
      "> how are you\n"
     ]
    },
    {
     "name": "stdout",
     "output_type": "stream",
     "text": [
      " \n"
     ]
    },
    {
     "name": "stdin",
     "output_type": "stream",
     "text": [
      "> my name is steven\n"
     ]
    },
    {
     "name": "stdout",
     "output_type": "stream",
     "text": [
      "Hello steven. How are you doing today?\n"
     ]
    },
    {
     "name": "stdin",
     "output_type": "stream",
     "text": [
      "> I'm fine\n"
     ]
    },
    {
     "name": "stdout",
     "output_type": "stream",
     "text": [
      "g\n"
     ]
    },
    {
     "name": "stdin",
     "output_type": "stream",
     "text": [
      "> I'm fine. thank you\n"
     ]
    },
    {
     "name": "stdout",
     "output_type": "stream",
     "text": [
      "No problem, you're welcome\n"
     ]
    },
    {
     "name": "stdin",
     "output_type": "stream",
     "text": [
      "> What is DevCareers about?\n"
     ]
    },
    {
     "name": "stdout",
     "output_type": "stream",
     "text": [
      "DevCareers provide laptops and resources for budding developers. You can check their websites.\n"
     ]
    },
    {
     "name": "stdin",
     "output_type": "stream",
     "text": [
      "> when is the next cohort?\n"
     ]
    },
    {
     "name": "stdout",
     "output_type": "stream",
     "text": [
      "Follow DevCareers on Twitter. Any information would be announced on the Twitter's page.\n"
     ]
    },
    {
     "name": "stdin",
     "output_type": "stream",
     "text": [
      "> Okay. Thank you.\n"
     ]
    },
    {
     "name": "stdout",
     "output_type": "stream",
     "text": [
      "I'm happy to help\n"
     ]
    },
    {
     "name": "stdin",
     "output_type": "stream",
     "text": [
      "> Do you know Hack Sultan?\n"
     ]
    },
    {
     "name": "stdout",
     "output_type": "stream",
     "text": [
      " \n"
     ]
    },
    {
     "name": "stdin",
     "output_type": "stream",
     "text": [
      "> Do you know hack?\n"
     ]
    },
    {
     "name": "stdout",
     "output_type": "stream",
     "text": [
      "w\n"
     ]
    },
    {
     "name": "stdin",
     "output_type": "stream",
     "text": [
      "> Okay. Goodbye\n"
     ]
    },
    {
     "name": "stdout",
     "output_type": "stream",
     "text": [
      ".\n"
     ]
    },
    {
     "name": "stdin",
     "output_type": "stream",
     "text": [
      "> quit\n"
     ]
    },
    {
     "name": "stdout",
     "output_type": "stream",
     "text": [
      "Bye. Take care. See you soon. :) \n",
      "Hi, I am DevCareers' FAQs bot. Ask me anything (about DevCareers)`\n"
     ]
    }
   ],
   "source": [
    "chat.converse()\n",
    "if __name__ == \"__main__\":\n",
    "    chatbot()"
   ]
  },
  {
   "cell_type": "code",
   "execution_count": null,
   "metadata": {},
   "outputs": [],
   "source": []
  }
 ],
 "metadata": {
  "kernelspec": {
   "display_name": "Python 3",
   "language": "python",
   "name": "python3"
  },
  "language_info": {
   "codemirror_mode": {
    "name": "ipython",
    "version": 3
   },
   "file_extension": ".py",
   "mimetype": "text/x-python",
   "name": "python",
   "nbconvert_exporter": "python",
   "pygments_lexer": "ipython3",
   "version": "3.7.4"
  }
 },
 "nbformat": 4,
 "nbformat_minor": 4
}
